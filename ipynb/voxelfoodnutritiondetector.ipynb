{
  "nbformat": 4,
  "nbformat_minor": 0,
  "metadata": {
    "colab": {
      "provenance": []
    },
    "kernelspec": {
      "name": "python3",
      "display_name": "Python 3"
    },
    "language_info": {
      "name": "python"
    }
  },
  "cells": [
    {
      "cell_type": "markdown",
      "source": [
        "# 🎉 Welcome to the FiftyOne Project in Google Colab! 🎉\n",
        "🚀 **FiftyOne** is an open-source toolkit for exploring, visualizing, and managing your datasets, making it easier to work with images and machine learning workflows.\n",
        "\n",
        "## 🔹 Features:\n",
        "✅ Easily browse and filter large datasets  \n",
        "✅ Powerful visualization tools for images and annotations  \n",
        "✅ Integration with deep learning frameworks like TensorFlow and PyTorch  \n",
        "\n",
        "## 📌 Setup Instructions:\n",
        "Run the following command to install FiftyOne if you haven't already:  \n",
        "```python\n",
        "!pip install fiftyone\n"
      ],
      "metadata": {
        "id": "aYUMFbYdKXn7"
      }
    },
    {
      "cell_type": "code",
      "source": [
        "try:\n",
        "    import fiftyone as fo\n",
        "    print(\"✅ FiftyOne is already installed.\")\n",
        "except ImportError:\n",
        "    print(\"📦 Installing FiftyOne...\")\n",
        "    %pip install -q fiftyone\n",
        "\n",
        "# Verify installation\n",
        "!pip list | grep -i fiftyone\n",
        "\n",
        "try:\n",
        "    import datasets as fo\n",
        "    print(\"✅ datasets is already installed.\")\n",
        "except ImportError:\n",
        "    print(\"📦 Installing datasets...\")\n",
        "    %pip install -q datasets\n"
      ],
      "metadata": {
        "id": "PQeMPS29IRFj",
        "colab": {
          "base_uri": "https://localhost:8080/"
        },
        "outputId": "a807e15a-a81b-46c8-fd50-c0f7d53615c2"
      },
      "execution_count": 10,
      "outputs": [
        {
          "output_type": "stream",
          "name": "stdout",
          "text": [
            "✅ FiftyOne is already installed.\n",
            "fiftyone                           1.3.2\n",
            "fiftyone-brain                     0.19.0\n",
            "fiftyone_db                        1.1.7\n",
            "✅ datasets is already installed.\n"
          ]
        }
      ]
    },
    {
      "cell_type": "code",
      "source": [
        "import fiftyone as fo\n",
        "from datasets import load_dataset\n",
        "import os\n",
        "\n",
        "# Load the dataset with authentication\n",
        "hf_dataset = load_dataset(\"TeeA/nutrition5k-food-name-gemini\", use_auth_token=hf_token)\n",
        "\n",
        "# Convert the Hugging Face dataset to a FiftyOne dataset\n",
        "dataset = fo.Dataset(hf_dataset)\n",
        "\n",
        "# Launch the FiftyOne app\n",
        "session = fo.launch_app(dataset)\n"
      ],
      "metadata": {
        "id": "Bs9JpiYALfP-",
        "colab": {
          "base_uri": "https://localhost:8080/",
          "height": 207
        },
        "outputId": "4e04e41f-6603-45be-c0bc-15b4539d0b43"
      },
      "execution_count": 11,
      "outputs": [
        {
          "output_type": "error",
          "ename": "NameError",
          "evalue": "name 'userdata' is not defined",
          "traceback": [
            "\u001b[0;31m---------------------------------------------------------------------------\u001b[0m",
            "\u001b[0;31mNameError\u001b[0m                                 Traceback (most recent call last)",
            "\u001b[0;32m<ipython-input-11-dc98dae44a89>\u001b[0m in \u001b[0;36m<cell line: 0>\u001b[0;34m()\u001b[0m\n\u001b[1;32m      4\u001b[0m \u001b[0;34m\u001b[0m\u001b[0m\n\u001b[1;32m      5\u001b[0m \u001b[0;31m# Retrieve token from secrets\u001b[0m\u001b[0;34m\u001b[0m\u001b[0;34m\u001b[0m\u001b[0m\n\u001b[0;32m----> 6\u001b[0;31m \u001b[0mhf_token\u001b[0m \u001b[0;34m=\u001b[0m \u001b[0muserdata\u001b[0m\u001b[0;34m.\u001b[0m\u001b[0mget\u001b[0m\u001b[0;34m(\u001b[0m\u001b[0;34m'HF_TOKEN'\u001b[0m\u001b[0;34m)\u001b[0m\u001b[0;34m\u001b[0m\u001b[0;34m\u001b[0m\u001b[0m\n\u001b[0m\u001b[1;32m      7\u001b[0m \u001b[0;34m\u001b[0m\u001b[0m\n\u001b[1;32m      8\u001b[0m \u001b[0;31m# Set the token as an environment variable\u001b[0m\u001b[0;34m\u001b[0m\u001b[0;34m\u001b[0m\u001b[0m\n",
            "\u001b[0;31mNameError\u001b[0m: name 'userdata' is not defined"
          ]
        }
      ]
    },
    {
      "cell_type": "code",
      "source": [
        "import fiftyone.zoo as foz\n",
        "\n",
        "# Load the nutrition dataset\n",
        "dataset = foz.load_zoo_dataset(\"TeeA/nutrition5k-food-name-gemini\")"
      ],
      "metadata": {
        "id": "f8yPKkikQF43",
        "colab": {
          "base_uri": "https://localhost:8080/",
          "height": 435
        },
        "outputId": "922c2486-5da9-42f5-f791-43ebc7b5eb8e"
      },
      "execution_count": 12,
      "outputs": [
        {
          "output_type": "stream",
          "name": "stdout",
          "text": [
            "Downloading TeeA/nutrition5k-food-name-gemini...\n"
          ]
        },
        {
          "output_type": "stream",
          "name": "stderr",
          "text": [
            "INFO:fiftyone.zoo.datasets:Downloading TeeA/nutrition5k-food-name-gemini...\n"
          ]
        },
        {
          "output_type": "error",
          "ename": "ValueError",
          "evalue": "Failed to retrieve dataset metadata from 'TeeA/nutrition5k-food-name-gemini'",
          "traceback": [
            "\u001b[0;31m---------------------------------------------------------------------------\u001b[0m",
            "\u001b[0;31mWebSessionError\u001b[0m                           Traceback (most recent call last)",
            "\u001b[0;32m/usr/local/lib/python3.11/dist-packages/fiftyone/zoo/datasets/__init__.py\u001b[0m in \u001b[0;36m_download_dataset_metadata\u001b[0;34m(url_or_gh_repo, overwrite)\u001b[0m\n\u001b[1;32m   1669\u001b[0m             \u001b[0;32mif\u001b[0m \u001b[0mrepo\u001b[0m \u001b[0;32mis\u001b[0m \u001b[0;32mnot\u001b[0m \u001b[0;32mNone\u001b[0m\u001b[0;34m:\u001b[0m\u001b[0;34m\u001b[0m\u001b[0;34m\u001b[0m\u001b[0m\n\u001b[0;32m-> 1670\u001b[0;31m                 \u001b[0mrepo\u001b[0m\u001b[0;34m.\u001b[0m\u001b[0mdownload\u001b[0m\u001b[0;34m(\u001b[0m\u001b[0mtmpdir\u001b[0m\u001b[0;34m)\u001b[0m\u001b[0;34m\u001b[0m\u001b[0;34m\u001b[0m\u001b[0m\n\u001b[0m\u001b[1;32m   1671\u001b[0m             \u001b[0;32melse\u001b[0m\u001b[0;34m:\u001b[0m\u001b[0;34m\u001b[0m\u001b[0;34m\u001b[0m\u001b[0m\n",
            "\u001b[0;32m/usr/local/lib/python3.11/dist-packages/fiftyone/utils/github.py\u001b[0m in \u001b[0;36mdownload\u001b[0;34m(self, outdir)\u001b[0m\n\u001b[1;32m    211\u001b[0m         \u001b[0mweb_session\u001b[0m\u001b[0;34m.\u001b[0m\u001b[0msess\u001b[0m \u001b[0;34m=\u001b[0m \u001b[0mself\u001b[0m\u001b[0;34m.\u001b[0m\u001b[0m_get_session\u001b[0m\u001b[0;34m(\u001b[0m\u001b[0;34m)\u001b[0m\u001b[0;34m\u001b[0m\u001b[0;34m\u001b[0m\u001b[0m\n\u001b[0;32m--> 212\u001b[0;31m         \u001b[0mweb_session\u001b[0m\u001b[0;34m.\u001b[0m\u001b[0mwrite\u001b[0m\u001b[0;34m(\u001b[0m\u001b[0mzip_path\u001b[0m\u001b[0;34m,\u001b[0m \u001b[0mzip_url\u001b[0m\u001b[0;34m)\u001b[0m\u001b[0;34m\u001b[0m\u001b[0;34m\u001b[0m\u001b[0m\n\u001b[0m\u001b[1;32m    213\u001b[0m \u001b[0;34m\u001b[0m\u001b[0m\n",
            "\u001b[0;32m/usr/local/lib/python3.11/dist-packages/eta/core/web.py\u001b[0m in \u001b[0;36mwrite\u001b[0;34m(self, path, url, params)\u001b[0m\n\u001b[1;32m    146\u001b[0m         \"\"\"\n\u001b[0;32m--> 147\u001b[0;31m         \u001b[0mr\u001b[0m \u001b[0;34m=\u001b[0m \u001b[0mself\u001b[0m\u001b[0;34m.\u001b[0m\u001b[0m_get_streaming_response\u001b[0m\u001b[0;34m(\u001b[0m\u001b[0murl\u001b[0m\u001b[0;34m,\u001b[0m \u001b[0mparams\u001b[0m\u001b[0;34m=\u001b[0m\u001b[0mparams\u001b[0m\u001b[0;34m)\u001b[0m\u001b[0;34m\u001b[0m\u001b[0;34m\u001b[0m\u001b[0m\n\u001b[0m\u001b[1;32m    148\u001b[0m         \u001b[0metau\u001b[0m\u001b[0;34m.\u001b[0m\u001b[0mensure_basedir\u001b[0m\u001b[0;34m(\u001b[0m\u001b[0mpath\u001b[0m\u001b[0;34m)\u001b[0m\u001b[0;34m\u001b[0m\u001b[0;34m\u001b[0m\u001b[0m\n",
            "\u001b[0;32m/usr/local/lib/python3.11/dist-packages/eta/core/web.py\u001b[0m in \u001b[0;36m_get_streaming_response\u001b[0;34m(self, url, headers, params)\u001b[0m\n\u001b[1;32m    161\u001b[0m         \u001b[0;32mif\u001b[0m \u001b[0mr\u001b[0m\u001b[0;34m.\u001b[0m\u001b[0mstatus_code\u001b[0m \u001b[0;32mnot\u001b[0m \u001b[0;32min\u001b[0m \u001b[0;34m(\u001b[0m\u001b[0;36m200\u001b[0m\u001b[0;34m,\u001b[0m \u001b[0;36m206\u001b[0m\u001b[0;34m)\u001b[0m\u001b[0;34m:\u001b[0m\u001b[0;34m\u001b[0m\u001b[0;34m\u001b[0m\u001b[0m\n\u001b[0;32m--> 162\u001b[0;31m             \u001b[0;32mraise\u001b[0m \u001b[0mWebSessionError\u001b[0m\u001b[0;34m(\u001b[0m\u001b[0;34m\"Unable to get '%s'\"\u001b[0m \u001b[0;34m%\u001b[0m \u001b[0murl\u001b[0m\u001b[0;34m)\u001b[0m\u001b[0;34m\u001b[0m\u001b[0;34m\u001b[0m\u001b[0m\n\u001b[0m\u001b[1;32m    163\u001b[0m \u001b[0;34m\u001b[0m\u001b[0m\n",
            "\u001b[0;31mWebSessionError\u001b[0m: Unable to get 'https://api.github.com/repos/TeeA/nutrition5k-food-name-gemini/zipball'",
            "\nThe above exception was the direct cause of the following exception:\n",
            "\u001b[0;31mValueError\u001b[0m                                Traceback (most recent call last)",
            "\u001b[0;32m<ipython-input-12-e980e5f60394>\u001b[0m in \u001b[0;36m<cell line: 0>\u001b[0;34m()\u001b[0m\n\u001b[1;32m      2\u001b[0m \u001b[0;34m\u001b[0m\u001b[0m\n\u001b[1;32m      3\u001b[0m \u001b[0;31m# Load the nutrition dataset\u001b[0m\u001b[0;34m\u001b[0m\u001b[0;34m\u001b[0m\u001b[0m\n\u001b[0;32m----> 4\u001b[0;31m \u001b[0mdataset\u001b[0m \u001b[0;34m=\u001b[0m \u001b[0mfoz\u001b[0m\u001b[0;34m.\u001b[0m\u001b[0mload_zoo_dataset\u001b[0m\u001b[0;34m(\u001b[0m\u001b[0;34m\"TeeA/nutrition5k-food-name-gemini\"\u001b[0m\u001b[0;34m)\u001b[0m\u001b[0;34m\u001b[0m\u001b[0;34m\u001b[0m\u001b[0m\n\u001b[0m",
            "\u001b[0;32m/usr/local/lib/python3.11/dist-packages/fiftyone/zoo/datasets/__init__.py\u001b[0m in \u001b[0;36mload_zoo_dataset\u001b[0;34m(name_or_url, split, splits, label_field, dataset_name, download_if_necessary, drop_existing_dataset, persistent, overwrite, cleanup, progress, **kwargs)\u001b[0m\n\u001b[1;32m    333\u001b[0m             )\n\u001b[1;32m    334\u001b[0m \u001b[0;34m\u001b[0m\u001b[0m\n\u001b[0;32m--> 335\u001b[0;31m         info, dataset_dir = download_zoo_dataset(\n\u001b[0m\u001b[1;32m    336\u001b[0m             \u001b[0mname_or_url\u001b[0m\u001b[0;34m,\u001b[0m\u001b[0;34m\u001b[0m\u001b[0;34m\u001b[0m\u001b[0m\n\u001b[1;32m    337\u001b[0m             \u001b[0msplits\u001b[0m\u001b[0;34m=\u001b[0m\u001b[0msplits\u001b[0m\u001b[0;34m,\u001b[0m\u001b[0;34m\u001b[0m\u001b[0;34m\u001b[0m\u001b[0m\n",
            "\u001b[0;32m/usr/local/lib/python3.11/dist-packages/fiftyone/zoo/datasets/__init__.py\u001b[0m in \u001b[0;36mdownload_zoo_dataset\u001b[0;34m(name_or_url, split, splits, overwrite, cleanup, **kwargs)\u001b[0m\n\u001b[1;32m    210\u001b[0m         \u001b[0m_overwrite_download\u001b[0m\u001b[0;34m(\u001b[0m\u001b[0mname_or_url\u001b[0m\u001b[0;34m,\u001b[0m \u001b[0msplit\u001b[0m\u001b[0;34m=\u001b[0m\u001b[0msplit\u001b[0m\u001b[0;34m,\u001b[0m \u001b[0msplits\u001b[0m\u001b[0;34m=\u001b[0m\u001b[0msplits\u001b[0m\u001b[0;34m)\u001b[0m\u001b[0;34m\u001b[0m\u001b[0;34m\u001b[0m\u001b[0m\n\u001b[1;32m    211\u001b[0m \u001b[0;34m\u001b[0m\u001b[0m\n\u001b[0;32m--> 212\u001b[0;31m     zoo_dataset, dataset_dir = _parse_dataset_details(\n\u001b[0m\u001b[1;32m    213\u001b[0m         \u001b[0mname_or_url\u001b[0m\u001b[0;34m,\u001b[0m \u001b[0moverwrite\u001b[0m\u001b[0;34m=\u001b[0m\u001b[0moverwrite\u001b[0m\u001b[0;34m,\u001b[0m \u001b[0;34m**\u001b[0m\u001b[0mkwargs\u001b[0m\u001b[0;34m\u001b[0m\u001b[0;34m\u001b[0m\u001b[0m\n\u001b[1;32m    214\u001b[0m     )\n",
            "\u001b[0;32m/usr/local/lib/python3.11/dist-packages/fiftyone/zoo/datasets/__init__.py\u001b[0m in \u001b[0;36m_parse_dataset_details\u001b[0;34m(name_or_url, overwrite, **kwargs)\u001b[0m\n\u001b[1;32m    739\u001b[0m \u001b[0;34m\u001b[0m\u001b[0m\n\u001b[1;32m    740\u001b[0m \u001b[0;32mdef\u001b[0m \u001b[0m_parse_dataset_details\u001b[0m\u001b[0;34m(\u001b[0m\u001b[0mname_or_url\u001b[0m\u001b[0;34m,\u001b[0m \u001b[0moverwrite\u001b[0m\u001b[0;34m=\u001b[0m\u001b[0;32mFalse\u001b[0m\u001b[0;34m,\u001b[0m \u001b[0;34m**\u001b[0m\u001b[0mkwargs\u001b[0m\u001b[0;34m)\u001b[0m\u001b[0;34m:\u001b[0m\u001b[0;34m\u001b[0m\u001b[0;34m\u001b[0m\u001b[0m\n\u001b[0;32m--> 741\u001b[0;31m     \u001b[0mzoo_dataset\u001b[0m \u001b[0;34m=\u001b[0m \u001b[0mget_zoo_dataset\u001b[0m\u001b[0;34m(\u001b[0m\u001b[0mname_or_url\u001b[0m\u001b[0;34m,\u001b[0m \u001b[0moverwrite\u001b[0m\u001b[0;34m=\u001b[0m\u001b[0moverwrite\u001b[0m\u001b[0;34m,\u001b[0m \u001b[0;34m**\u001b[0m\u001b[0mkwargs\u001b[0m\u001b[0;34m)\u001b[0m\u001b[0;34m\u001b[0m\u001b[0;34m\u001b[0m\u001b[0m\n\u001b[0m\u001b[1;32m    742\u001b[0m     \u001b[0mdataset_dir\u001b[0m \u001b[0;34m=\u001b[0m \u001b[0m_get_zoo_dataset_dir\u001b[0m\u001b[0;34m(\u001b[0m\u001b[0mzoo_dataset\u001b[0m\u001b[0;34m.\u001b[0m\u001b[0mname\u001b[0m\u001b[0;34m)\u001b[0m\u001b[0;34m\u001b[0m\u001b[0;34m\u001b[0m\u001b[0m\n\u001b[1;32m    743\u001b[0m \u001b[0;34m\u001b[0m\u001b[0m\n",
            "\u001b[0;32m/usr/local/lib/python3.11/dist-packages/fiftyone/zoo/datasets/__init__.py\u001b[0m in \u001b[0;36mget_zoo_dataset\u001b[0;34m(name_or_url, overwrite, **kwargs)\u001b[0m\n\u001b[1;32m    572\u001b[0m \u001b[0;34m\u001b[0m\u001b[0m\n\u001b[1;32m    573\u001b[0m     \u001b[0;32mif\u001b[0m \u001b[0;32mnot\u001b[0m \u001b[0mis_local\u001b[0m\u001b[0;34m:\u001b[0m\u001b[0;34m\u001b[0m\u001b[0;34m\u001b[0m\u001b[0m\n\u001b[0;32m--> 574\u001b[0;31m         dataset_dir = _download_dataset_metadata(\n\u001b[0m\u001b[1;32m    575\u001b[0m             \u001b[0mname_or_url\u001b[0m\u001b[0;34m,\u001b[0m \u001b[0moverwrite\u001b[0m\u001b[0;34m=\u001b[0m\u001b[0moverwrite\u001b[0m\u001b[0;34m\u001b[0m\u001b[0;34m\u001b[0m\u001b[0m\n\u001b[1;32m    576\u001b[0m         )\n",
            "\u001b[0;32m/usr/local/lib/python3.11/dist-packages/fiftyone/zoo/datasets/__init__.py\u001b[0m in \u001b[0;36m_download_dataset_metadata\u001b[0;34m(url_or_gh_repo, overwrite)\u001b[0m\n\u001b[1;32m   1672\u001b[0m                 \u001b[0m_download_archive\u001b[0m\u001b[0;34m(\u001b[0m\u001b[0murl\u001b[0m\u001b[0;34m,\u001b[0m \u001b[0mtmpdir\u001b[0m\u001b[0;34m)\u001b[0m\u001b[0;34m\u001b[0m\u001b[0;34m\u001b[0m\u001b[0m\n\u001b[1;32m   1673\u001b[0m         \u001b[0;32mexcept\u001b[0m \u001b[0mException\u001b[0m \u001b[0;32mas\u001b[0m \u001b[0me\u001b[0m\u001b[0;34m:\u001b[0m\u001b[0;34m\u001b[0m\u001b[0;34m\u001b[0m\u001b[0m\n\u001b[0;32m-> 1674\u001b[0;31m             raise ValueError(\n\u001b[0m\u001b[1;32m   1675\u001b[0m                 \u001b[0;34mf\"Failed to retrieve dataset metadata from '{url_or_gh_repo}'\"\u001b[0m\u001b[0;34m\u001b[0m\u001b[0;34m\u001b[0m\u001b[0m\n\u001b[1;32m   1676\u001b[0m             ) from e\n",
            "\u001b[0;31mValueError\u001b[0m: Failed to retrieve dataset metadata from 'TeeA/nutrition5k-food-name-gemini'"
          ]
        }
      ]
    },
    {
      "cell_type": "code",
      "source": [
        "import fiftyone as fo\n",
        "from datasets import load_dataset\n",
        "\n",
        "# Load the dataset from Hugging Face using datasets\n",
        "hf_dataset = load_dataset(\"TeeA/nutrition5k-food-name-gemini\")\n"
      ],
      "metadata": {
        "id": "xvfwKSzET3xO"
      },
      "execution_count": 13,
      "outputs": []
    },
    {
      "cell_type": "code",
      "source": [
        "hf_dataset['train'][0]"
      ],
      "metadata": {
        "colab": {
          "base_uri": "https://localhost:8080/"
        },
        "id": "9Uly7h-pUEOC",
        "outputId": "25656cf2-ecef-4518-d7db-65ef3384375d"
      },
      "execution_count": 14,
      "outputs": [
        {
          "output_type": "execute_result",
          "data": {
            "text/plain": [
              "{'dish_id': 'dish_1550704750',\n",
              " 'food_name': ' Chicken',\n",
              " 'dish_image': <PIL.PngImagePlugin.PngImageFile image mode=RGB size=1920x1080>}"
            ]
          },
          "metadata": {},
          "execution_count": 14
        }
      ]
    },
    {
      "cell_type": "code",
      "source": [
        "dir(hf_dataset)\n",
        "import fiftyone as fo\n",
        "import os\n",
        "from PIL import Image\n",
        "\n",
        "# Create a list to store samples\n",
        "samples = []\n",
        "\n",
        "# Define the directory to save images\n",
        "image_dir = \"/path/to/save/images\"\n",
        "os.makedirs(image_dir, exist_ok=True)\n",
        "\n",
        "\n",
        "for data in hf_dataset.item():\n",
        "# Save the image to disk\n",
        "  image_path = os.path.join(image_dir, f\"{data['dish_id']}.png\")\n",
        "  data['dish_image'].save(image_path)\n",
        "\n",
        "  # Create a FiftyOne sample\n",
        "  sample = fo.Sample(filepath=image_path)\n",
        "  sample['dish_id'] = data['dish_id']\n",
        "\n",
        "  # Add food_name as a Classification field\n",
        "  sample['food_name'] = fo.Classification(label=data['food_name'].strip())\n",
        "\n",
        "  # Add the sample to the list\n",
        "  samples.append(sample)\n",
        "\n",
        "  # Create a FiftyOne dataset\n",
        "  dataset = fo.Dataset(\"food_dataset\")\n",
        "\n",
        "  # Add samples to the dataset\n",
        "  dataset.add_samples(samples)\n"
      ],
      "metadata": {
        "colab": {
          "base_uri": "https://localhost:8080/",
          "height": 207
        },
        "collapsed": true,
        "id": "c-1ofpC5USDC",
        "outputId": "514a8a5d-f379-4499-cfe1-8ccb1da46b71"
      },
      "execution_count": 15,
      "outputs": [
        {
          "output_type": "error",
          "ename": "AttributeError",
          "evalue": "'DatasetDict' object has no attribute 'item'",
          "traceback": [
            "\u001b[0;31m---------------------------------------------------------------------------\u001b[0m",
            "\u001b[0;31mAttributeError\u001b[0m                            Traceback (most recent call last)",
            "\u001b[0;32m<ipython-input-15-8b2da4fa1809>\u001b[0m in \u001b[0;36m<cell line: 0>\u001b[0;34m()\u001b[0m\n\u001b[1;32m     12\u001b[0m \u001b[0;34m\u001b[0m\u001b[0m\n\u001b[1;32m     13\u001b[0m \u001b[0;34m\u001b[0m\u001b[0m\n\u001b[0;32m---> 14\u001b[0;31m \u001b[0;32mfor\u001b[0m \u001b[0mdata\u001b[0m \u001b[0;32min\u001b[0m \u001b[0mhf_dataset\u001b[0m\u001b[0;34m.\u001b[0m\u001b[0mitem\u001b[0m\u001b[0;34m(\u001b[0m\u001b[0;34m)\u001b[0m\u001b[0;34m:\u001b[0m\u001b[0;34m\u001b[0m\u001b[0;34m\u001b[0m\u001b[0m\n\u001b[0m\u001b[1;32m     15\u001b[0m \u001b[0;31m# Save the image to disk\u001b[0m\u001b[0;34m\u001b[0m\u001b[0;34m\u001b[0m\u001b[0m\n\u001b[1;32m     16\u001b[0m   \u001b[0mimage_path\u001b[0m \u001b[0;34m=\u001b[0m \u001b[0mos\u001b[0m\u001b[0;34m.\u001b[0m\u001b[0mpath\u001b[0m\u001b[0;34m.\u001b[0m\u001b[0mjoin\u001b[0m\u001b[0;34m(\u001b[0m\u001b[0mimage_dir\u001b[0m\u001b[0;34m,\u001b[0m \u001b[0;34mf\"{data['dish_id']}.png\"\u001b[0m\u001b[0;34m)\u001b[0m\u001b[0;34m\u001b[0m\u001b[0;34m\u001b[0m\u001b[0m\n",
            "\u001b[0;31mAttributeError\u001b[0m: 'DatasetDict' object has no attribute 'item'"
          ]
        }
      ]
    },
    {
      "cell_type": "code",
      "source": [],
      "metadata": {
        "id": "hKQU6QhwWWca"
      },
      "execution_count": null,
      "outputs": []
    }
  ]
}